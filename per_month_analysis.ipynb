{
 "cells": [
  {
   "cell_type": "markdown",
   "metadata": {},
   "source": [
    "Results are per month or total integrated."
   ]
  },
  {
   "cell_type": "code",
   "execution_count": null,
   "metadata": {},
   "outputs": [],
   "source": [
    "import pandas as pd, numpy as np, matplotlib.dates as dates, seaborn as sns, paramiko, os, re, sys, tables, glob, sys, shutil\n",
    "from matplotlib import pyplot as plt\n",
    "from matplotlib.colors import LogNorm\n",
    "from ipywidgets import interact, IntSlider\n",
    "if \"./src\" not in sys.path:\n",
    "    sys.path.insert(0, \"./src\")\n",
    "from src import bcm_utils"
   ]
  },
  {
   "cell_type": "markdown",
   "metadata": {},
   "source": [
    "# Define parameters"
   ]
  },
  {
   "cell_type": "code",
   "execution_count": null,
   "metadata": {},
   "outputs": [],
   "source": [
    "#variables\n",
    "data_path = \"/Users/pkicsiny/sshfs/json_pickles\"\n",
    "year = 2018\n",
    "rs = 10\n",
    "months = [str(m).zfill(2) for m in list(range(4, 11))]\n",
    "colnames = bcm_utils.get_column_names([24, 48], [rs])\n",
    "\n",
    "#dirs\n",
    "excel_brildata_path = \"../excel_brildata/{}\".format(year)\n",
    "excel_json_path = \"../excel_json/{}\".format(year)\n",
    "brilcalc_dir = \"../brilcalc_data/{}_offline.csv\".format(year)\n",
    "\n",
    "#files in dirs, data from brildata hd5 files\n",
    "excel_brildata_files = os.listdir(excel_brildata_path)\n",
    "excel_brildata_charge_sums = [excel_brildata_files[idx]for idx, i in enumerate([\"sums\" in et for et in excel_brildata_files]) if i]\n",
    "excel_brildata_charge_sum_ratios = [excel_brildata_files[idx]for idx, i in enumerate([\"sum_ratio\" in et for et in excel_brildata_files]) if i]\n",
    "excel_brildata_sim_data_ratios = [excel_brildata_files[idx]for idx, i in enumerate([\"sim_data\" in et for et in excel_brildata_files]) if i]"
   ]
  },
  {
   "cell_type": "code",
   "execution_count": null,
   "metadata": {},
   "outputs": [],
   "source": [
    "#files in dirs, data from webmonitor, only 2018, use this\n",
    "excel_json_files = os.listdir(excel_json_path)\n",
    "excel_json_charge_sums = [excel_json_files[idx]for idx, i in enumerate([\"sums\" in et for et in excel_json_files]) if i]\n",
    "excel_json_charge_sum_errors = [excel_json_files[idx]for idx, i in enumerate([\"sums_stat_uncertainties\" in et for et in excel_json_files]) if i]\n",
    "excel_json_charge_sum_ratios = [excel_json_files[idx]for idx, i in enumerate([\"sum_ratio\" in et for et in excel_json_files]) if i]\n",
    "excel_json_sim_data_ratios = [excel_json_files[idx]for idx, i in enumerate([\"sim_data_ratios_20\" in et for et in excel_json_files]) if i]\n",
    "excel_json_sim_data_stat_uncertainty_ratios = [excel_json_files[idx]for idx, i in enumerate([\"sim_data_ratios_st\" in et for et in excel_json_files]) if i]"
   ]
  },
  {
   "cell_type": "markdown",
   "metadata": {},
   "source": [
    "## 1) Ratios -Z/+Z channels per month"
   ]
  },
  {
   "cell_type": "code",
   "execution_count": null,
   "metadata": {},
   "outputs": [],
   "source": [
    "#calulate ratios for json charge data\n",
    "for m in months:\n",
    "    print(m)\n",
    "    excel_one_month = pd.read_excel(os.path.join(excel_json_path, 'charge_sums_2018_{}.xlsx'.format(m)))\n",
    "    excel_one_month[\"CH24/CH48\"] = excel_one_month[\"CH24RS10\"]/excel_one_month[\"CH48RS10\"]\n",
    "    ratios_one_month = excel_one_month[[\"Unnamed: 0\", \"CH24/CH48\"]]\n",
    "    ratios_one_month.columns = [\"Fill\", \"CH24/CH48\"]\n",
    "    ratios_one_month.set_index(\"Fill\", drop=True, inplace=True)\n",
    "    #ratios_one_month.to_excel(excel_json_path+\"/charge_sum_ratios_{}_{}.xlsx\".format(year, m))"
   ]
  },
  {
   "cell_type": "code",
   "execution_count": null,
   "metadata": {},
   "outputs": [],
   "source": [
    "#contains data from all excel files (per fill)\n",
    "charge_sum_ratio_df = pd.DataFrame()\n",
    "\n",
    "#contains data for each month\n",
    "charge_sum_ratio_dict = {}\n",
    "\n",
    "#contains data from all excel files (averaged per month)\n",
    "charge_sum_ratio_monthly_df = pd.DataFrame()\n",
    "for file in excel_json_charge_sum_ratios:\n",
    "    print(file)\n",
    "    excel_one_month = pd.read_excel(os.path.join(excel_json_path, file))\n",
    "    \n",
    "#add monthly dataframe to dict\n",
    "    dict_key = file[-12:-5]\n",
    "    charge_sum_ratio_dict[dict_key] = excel_one_month\n",
    "    \n",
    "#append to big dataframe\n",
    "    charge_sum_ratio_df = charge_sum_ratio_df.append(excel_one_month)\n",
    "    \n",
    "#calculate mean and std of monthly data\n",
    "    charge_sum_ratio_monthly_df = charge_sum_ratio_monthly_df.append(\n",
    "        pd.concat([pd.DataFrame([round(excel_one_month.mean(), 3), round(excel_one_month.std(), 3)],\n",
    "                                index=[\"mean\", \"σ\"]).T], keys=[dict_key]))"
   ]
  },
  {
   "cell_type": "code",
   "execution_count": null,
   "metadata": {
    "scrolled": true
   },
   "outputs": [],
   "source": [
    "#mean and std for the whole year\n",
    "pd.DataFrame([charge_sum_ratio_df.mean(), charge_sum_ratio_df.std()], index=[\"mean\", \"σ\"]).T"
   ]
  },
  {
   "cell_type": "code",
   "execution_count": null,
   "metadata": {
    "scrolled": false
   },
   "outputs": [],
   "source": [
    "#mean and std per month\n",
    "charge_sum_ratio_monthly_df.loc[(slice(None), [\"CH24/CH48\"]), :]"
   ]
  },
  {
   "cell_type": "code",
   "execution_count": null,
   "metadata": {},
   "outputs": [],
   "source": [
    "#indexing for one month\n",
    "pd.DataFrame(charge_sum_ratio_monthly_df.loc[(slice(None), [\"CH24/CH48\"]), :][:-2].mean(), columns=[\"CH24/CH48\"]).round(3).T"
   ]
  },
  {
   "cell_type": "markdown",
   "metadata": {},
   "source": [
    "## 2) Sim-data ratios per month"
   ]
  },
  {
   "cell_type": "code",
   "execution_count": null,
   "metadata": {
    "scrolled": false
   },
   "outputs": [],
   "source": [
    "#result df column names\n",
    "ratios_dict, yearly_ratios_df, monthly_ratios_df, errors_dict, yearly_errors_df, monthly_errors_df = bcm_utils.sim_data_ratios_per_month(excel_json_sim_data_ratios,\n",
    "                                                                                                  excel_json_sim_data_stat_uncertainty_ratios,\n",
    "                                                                                              excel_json_path, colnames, 0, [0.5,1])"
   ]
  },
  {
   "cell_type": "code",
   "execution_count": null,
   "metadata": {},
   "outputs": [],
   "source": [
    "monthly_ratios_df"
   ]
  },
  {
   "cell_type": "code",
   "execution_count": null,
   "metadata": {},
   "outputs": [],
   "source": [
    "round(100*monthly_ratios_df[\"σ\"]/monthly_ratios_df[\"mean\"], 2)"
   ]
  },
  {
   "cell_type": "code",
   "execution_count": null,
   "metadata": {},
   "outputs": [],
   "source": [
    "#mean and std for the whole year\n",
    "pd.DataFrame([yearly_ratios_df.mean(), yearly_ratios_df.std()], index=[\"mean\", \"σ\"]).T"
   ]
  },
  {
   "cell_type": "code",
   "execution_count": null,
   "metadata": {},
   "outputs": [],
   "source": [
    "fig = bcm_utils.sim_data_ratio_plot(yearly_ratios_df, year, show_mean=False)\n",
    "handle = fig.gca()\n",
    "handle.set_ylim(0.5, 1.6)\n",
    "fig"
   ]
  },
  {
   "cell_type": "code",
   "execution_count": null,
   "metadata": {},
   "outputs": [],
   "source": [
    "#fig.savefig(\"../sim_data_ratio_plots/brildata_{}_offline.png\".format(year))"
   ]
  },
  {
   "cell_type": "code",
   "execution_count": null,
   "metadata": {},
   "outputs": [],
   "source": [
    "fig, ax = plt.subplots(figsize=(9, 6))\n",
    "plt.grid()\n",
    "#plt.yticks(fontsize=13)\n",
    "#plt.xticks(fontsize=13)\n",
    "\n",
    "# assumes -Z +Z order in dataframe\n",
    "labels = [\"BLM -Z\", \"BLM +Z\"]\n",
    "ax.scatter(yearly_ratios_df.index, yearly_ratios_df.iloc[:, 0], c=\"b\", label=labels[0])\n",
    "ax.scatter(yearly_ratios_df.index, yearly_ratios_df.iloc[:, 1], c=\"r\", label=labels[1])\n",
    "ax.set_ylabel('Simulation/measurement', fontsize=16)\n",
    "ax.set_xlabel('Proton-proton fills', fontsize=16)\n",
    "ax.legend(fontsize=14)\n",
    "ax.set_ylim(0.6, 1.5)\n",
    "ax.text(7100, 0.71, r'$\\bf{CMS}$ $\\it{Preliminary}$', size=16)\n",
    "#ax.get_xaxis().set_label_coords(0.86,-0.075)\n",
    "#ax.get_yaxis().set_label_coords(-0.07,0.7)\n",
    "ax.set_title(r'$\\bf{{{CMS}}}$ Offline Luminosity 2018 ($\\sigma_{\\mathrm{inel}}$=79.5 mb, $\\sqrt{\\mathrm{s}}$=13 TeV)', loc='right', fontsize=16)\n",
    "#fig.savefig(\"../sim_data_ratio_plots/brildata_{}_offline_v2.png\".format(year))"
   ]
  },
  {
   "cell_type": "code",
   "execution_count": null,
   "metadata": {},
   "outputs": [],
   "source": [
    "fig, ax = plt.subplots(figsize=(9, 6))\n",
    "plt.grid()\n",
    "#plt.yticks(fontsize=13)\n",
    "#plt.xticks(fontsize=13)\n",
    "\n",
    "# assumes -Z +Z order in dataframe\n",
    "labels = [\"BLM -Z\", \"BLM +Z\"]\n",
    "ax.scatter(yearly_ratios_df.index, yearly_ratios_df.iloc[:, 0], c=\"b\", label=labels[0])\n",
    "ax.scatter(yearly_ratios_df.index, yearly_ratios_df.iloc[:, 1], c=\"r\", label=labels[1])\n",
    "ax.set_ylabel('Simulation/measurement', fontsize=16)\n",
    "ax.set_xlabel('Proton-proton fills', fontsize=16)\n",
    "ax.legend(fontsize=14)\n",
    "ax.set_ylim(0.6, 1.5)\n",
    "#ax.text(7100, 0.71, r'$\\bf{CMS}$ $\\it{Preliminary}$', size=16)\n",
    "#ax.get_xaxis().set_label_coords(0.86,-0.075)\n",
    "#ax.get_yaxis().set_label_coords(-0.07,0.7)\n",
    "ax.set_title(r'$\\bf{CMS}$ Preliminary'+\"            \"+r'Offline Luminosity 2018 ($\\sigma_{\\mathrm{inel}}$=79.5 mb, $\\sqrt{\\mathrm{s}}$=13 TeV)',\n",
    "             loc='right', fontsize=13)\n",
    "#fig.savefig(\"../sim_data_ratio_plots/brildata_{}_offline_v3.png\".format(year))"
   ]
  }
 ],
 "metadata": {
  "kernelspec": {
   "display_name": "Python 3",
   "language": "python",
   "name": "python3"
  },
  "language_info": {
   "codemirror_mode": {
    "name": "ipython",
    "version": 3
   },
   "file_extension": ".py",
   "mimetype": "text/x-python",
   "name": "python",
   "nbconvert_exporter": "python",
   "pygments_lexer": "ipython3",
   "version": "3.8.6"
  }
 },
 "nbformat": 4,
 "nbformat_minor": 2
}
