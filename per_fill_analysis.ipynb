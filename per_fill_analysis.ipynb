{
 "cells": [
  {
   "cell_type": "markdown",
   "metadata": {},
   "source": [
    "This notebook includes per fill calculations with BCM data."
   ]
  },
  {
   "cell_type": "code",
   "execution_count": null,
   "metadata": {},
   "outputs": [],
   "source": [
    "import pandas as pd, numpy as np, matplotlib.dates as dates, seaborn as sns, paramiko, os, re, sys, tables, glob, sys, shutil\n",
    "from matplotlib import pyplot as plt\n",
    "from matplotlib.colors import LogNorm\n",
    "from ipywidgets import interact, IntSlider\n",
    "if \"./src\" not in sys.path:\n",
    "    sys.path.insert(0, \"./src\")\n",
    "from src import bcm_utils"
   ]
  },
  {
   "cell_type": "markdown",
   "metadata": {},
   "source": [
    "# Define parameters"
   ]
  },
  {
   "cell_type": "code",
   "execution_count": null,
   "metadata": {},
   "outputs": [],
   "source": [
    "year = 2018"
   ]
  },
  {
   "cell_type": "code",
   "execution_count": null,
   "metadata": {},
   "outputs": [],
   "source": [
    "#mask hd5 file list for one month data where several months of data are in the same folder\n",
    "months = [str(m).zfill(2) for m in list(range(1,13))]\n",
    "\n",
    "#integrated lumi per year in inverse barns, LHC delivered nominal, from twiki, just for reference\n",
    "nominal_integrated_lumi = {2015:4.21e15, 2016:40.99e15, 2017:49.79e15, 2018:67.86e15}\n",
    "\n",
    "# longest running sum used\n",
    "rs = 12\n",
    "\n",
    "#column names for channel ratio dataframe\n",
    "charge_sum_ratio_df_columns = [\"CH5/CH1\", \"CH6/CH2\", \"CH7/CH3\", \"CH8/CH4\",\n",
    "           \"CH17/CH41\", \"CH18/CH42\", \"CH19/CH43\", \"CH20/CH44\", \n",
    "           \"CH21/CH45\", \"CH22/CH46\", \"CH23/CH47\", \"CH24/CH48\", \n",
    "           \"CH25/CH33\", \"CH26/CH34\", \"CH27/CH35\", \"CH28/CH36\", \n",
    "           \"CH29/CH37\", \"CH30/CH38\", \"CH31/CH39\", \"CH32/CH40\",\n",
    "           \"CH24/CH5\", \"CH48/CH1\", \"CH24/CH6\", \"CH48/CH2\",\n",
    "           \"CH24/CH7\", \"CH48/CH3\", \"CH24/CH8\", \"CH48/CH4\"]\n",
    "\n",
    "#dirs\n",
    "excel_json_path = \"../excel_json/{}\".format(year)\n",
    "brilcalc_dir = \"../brilcalc_data/{}_offline.csv\".format(year)\n",
    "\n",
    "#files in dirs\n",
    "excel_json_files = os.listdir(excel_json_path)\n",
    "excel_json_charge_sums = [excel_json_files[idx]for idx, i in enumerate([\"sums_20\" in et for et in excel_json_files]) if i]\n",
    "excel_json_charge_sum_errors = [excel_json_files[idx]for idx, i in enumerate([\"sums_stat_uncertainties\" in et for et in excel_json_files]) if i]\n",
    "excel_json_charge_sum_ratios = [excel_json_files[idx]for idx, i in enumerate([\"sum_ratio\" in et for et in excel_json_files]) if i]\n",
    "excel_json_sim_data_ratios = [excel_json_files[idx]for idx, i in enumerate([\"sim_data\" in et for et in excel_json_files]) if i]"
   ]
  },
  {
   "cell_type": "markdown",
   "metadata": {},
   "source": [
    "## Read brilcalc lumi data \n",
    "Read from csv and make a dataframe with [lumi sum, fill]. Csv is exported from brilcalc and one file contains one year of lumi info."
   ]
  },
  {
   "cell_type": "code",
   "execution_count": null,
   "metadata": {},
   "outputs": [],
   "source": [
    "#read excel file and convert lumi data from [μb] to [b]\n",
    "brilcalc_table = pd.read_csv(brilcalc_dir, header=1)[:-3]\n",
    "brilcalc_table[\"delivered_[/b]\"] = pd.to_numeric(brilcalc_table[\"delivered(/fb)\"], errors=\"coerce\")*1e15\n",
    "brilcalc_table[['run','fill']] = brilcalc_table['#run:fill'].str.split(':',expand=True)\n",
    "brilcalc_table = brilcalc_table.sort_index()"
   ]
  },
  {
   "cell_type": "code",
   "execution_count": null,
   "metadata": {},
   "outputs": [],
   "source": [
    "#sum up delivered lumi per fill, used to filter hd5 files for fills that are in this table\n",
    "brilcalc_lumi_table = pd.DataFrame({\"fill\": pd.to_numeric(brilcalc_table[\"fill\"]).unique().tolist(),\n",
    "                                    \"start_time\": [pd.Timestamp(gr.iloc[0]) for gr in pd.DataFrame(brilcalc_table[\"time\"].groupby(brilcalc_table[\"fill\"]))[1]],\n",
    "                                    \"cms_delivered\": [brilcalc_table[brilcalc_table[\"fill\"] == fill][\"delivered_[/b]\"].sum()\\\n",
    "                                                      for fill in brilcalc_table[\"fill\"].unique()]})"
   ]
  },
  {
   "cell_type": "markdown",
   "metadata": {},
   "source": [
    "1 𝜇b -1 s -1 = 10 30 cm −2 s −1"
   ]
  },
  {
   "cell_type": "markdown",
   "metadata": {},
   "source": [
    "## 1) Merge fractionated excels\n",
    "Data were read in arbitrary chunks thus for some months they are in more excel files."
   ]
  },
  {
   "cell_type": "code",
   "execution_count": null,
   "metadata": {
    "scrolled": true
   },
   "outputs": [],
   "source": [
    "data_type = [\"charge_sums\", \"fill_dates\"]\n",
    "\n",
    "for dt in data_type:\n",
    "    charge_sum_files = [filename for filename in os.listdir(\"../excel_json/{}\".format(year)) if dt in filename]\n",
    "    \n",
    "#auxiliary variables\n",
    "    running_month = \"00\"\n",
    "    concatted_month = pd.DataFrame() \n",
    "    \n",
    "#make a dir to place fractionated files\n",
    "    move_dir = \"../excel_data/{}/month_fractions\".format(year)\n",
    "    if not os.path.isdir(move_dir):\n",
    "        os.mkdir(move_dir)\n",
    "\n",
    "#loop over files\n",
    "    for filename in charge_sum_files:\n",
    "        date_of_file = re.findall(\"{}_[0-9]*_[0-9*]\".format(year), filename)\n",
    "        if len(date_of_file):\n",
    "            print(\"Found fractionated month: {}\".format(date_of_file))\n",
    "\n",
    "#check if new month\n",
    "            month_of_file = re.findall(\"_[0-9]+_\", date_of_file[0])[0][1:-1]\n",
    "            assert len(month_of_file) == 2\n",
    "            if month_of_file != running_month:\n",
    "                print(\"Starting new month.\")\n",
    "                concatted_month = pd.DataFrame() \n",
    "                running_month = month_of_file\n",
    "\n",
    "#read file\n",
    "            excel_path = \"../excel_data/{}/{}\".format(year, filename)\n",
    "            excel_table = pd.read_excel(excel_path)\n",
    "        \n",
    "#move fractionated file to fractionated folder\n",
    "            shutil.move(excel_path, move_dir+\"/{}\".format(filename))\n",
    "    \n",
    "#concat data to whole month df\n",
    "            concatted_month = concatted_month.append(excel_table)\n",
    "            print(\"Length of dataframe after reading {}: {}\\n\".format(filename, len(concatted_month)))\n",
    "            if len(concatted_month) > 0:\n",
    "                    try:\n",
    "                        concatted_month = concatted_month.sort_values(by=\"fill\").reset_index(drop=True)\n",
    "                    except:\n",
    "                        concatted_month = concatted_month.sort_index()\n",
    "                    out_name = \"../excel_data/{}/{}.xlsx\".format(year,\n",
    "                                                                re.findall(\"^.*_\",filename)[0][:-1])\n",
    "                    \n",
    "#sum duplicate rows (when a fill was fractionated in two files)\n",
    "                    if len(concatted_month.index.get_duplicates()) > 0:\n",
    "                        concatted_month = concatted_month.groupby(level=0).sum()\n",
    "                    concatted_month.to_excel(out_name)"
   ]
  },
  {
   "cell_type": "markdown",
   "metadata": {},
   "source": [
    "## 2) Lumi/Q tables\n",
    "Calculate delivered lumi/summed charge for by fill by channel."
   ]
  },
  {
   "cell_type": "code",
   "execution_count": null,
   "metadata": {
    "scrolled": true
   },
   "outputs": [],
   "source": [
    "lumi_ch_ratios_all_fills = pd.DataFrame()\n",
    "for filename in sorted(excel_json_charge_sums):\n",
    "    charge_sums = pd.read_excel(\"../excel_json/{}/{}\".format(year, filename))\n",
    "    charge_sums.rename(columns={'Unnamed: 0': 'fill'}, inplace=True)\n",
    "    month_tag = re.findall(\"_20.*\", filename)[0]\n",
    "    lumi_ch_ratios = pd.DataFrame(columns=charge_sums.columns)\n",
    "    for fill in charge_sums[\"fill\"]:\n",
    "        if fill in list(brilcalc_lumi_table[brilcalc_lumi_table[\"cms_delivered\"] > 1e14][\"fill\"]):\n",
    "            temp = [brilcalc_lumi_table[brilcalc_lumi_table[\"fill\"]==fill][\"cms_delivered\"].item()/\\\n",
    "                                   charge_sums[charge_sums[\"fill\"] == fill][c] for c in charge_sums.columns[1:]]\n",
    "            lumi_ch_ratios_one_fill = pd.DataFrame(temp).T\n",
    "            lumi_ch_ratios_one_fill[\"fill\"] = fill\n",
    "            lumi_ch_ratios = lumi_ch_ratios.append(lumi_ch_ratios_one_fill)\n",
    "            #lumi_ch_ratios.to_excel(\"../excel_data/{}/lumi_charge_ratios{}\".format(year, month_tag))\n",
    "    lumi_ch_ratios_all_fills = lumi_ch_ratios_all_fills.append(lumi_ch_ratios)\n",
    "    print(\"Read {}\".format(filename))\n",
    "lumi_ch_ratios_all_fills.reset_index(inplace=True, drop=True)"
   ]
  },
  {
   "cell_type": "code",
   "execution_count": null,
   "metadata": {},
   "outputs": [],
   "source": [
    "\"\"\"\n",
    "L/Q = ϵ\n",
    "L/Q_frac > ϵ\n",
    "ϵ*Q_frac/L = ϵ/(L/Q_frac) = Q_frac/Q < 1\n",
    "\n",
    "-Z BLM measure higher currents\n",
    "delivered lumi same for both sides\n",
    "\"\"\"\n",
    "plt.scatter(lumi_ch_ratios_all_fills[\"fill\"], lumi_ch_ratios_all_fills[\"CH24RS10\"])\n",
    "plt.scatter(lumi_ch_ratios_all_fills[\"fill\"], lumi_ch_ratios_all_fills[\"CH48RS10\"])\n",
    "plt.grid()\n",
    "plt.legend(labels)\n",
    "plt.ylabel(\"Delivered luminosity/measured charge\")"
   ]
  },
  {
   "cell_type": "markdown",
   "metadata": {},
   "source": [
    "## 3) Channel ratios -Z/+Z\n",
    "Columns are channel ratios, rows are runs. Ratio of summed charge between -Z and +Z for symmetrical detectors."
   ]
  },
  {
   "cell_type": "code",
   "execution_count": null,
   "metadata": {
    "scrolled": true
   },
   "outputs": [],
   "source": [
    "col = \"CH25/CH33\"\n",
    "#make a dir for plots\n",
    "plot_dir = \"../charge_sum_ratio_plots/{}\".format(year)\n",
    "if not os.path.isdir(plot_dir):\n",
    "    os.mkdir(plot_dir)\n",
    "fig, ax = plt.subplots(figsize=(9, 6))\n",
    "plt.grid()\n",
    "plt.yticks(fontsize=13)\n",
    "plt.xticks(fontsize=13)\n",
    "for filename in excel_brildata_charge_sums:\n",
    "        charge_sums = pd.read_excel(excel_brildata_path+\"/{}\".format(year, filename))\n",
    "        month_tag = re.findall(\"_20.*\", filename)[0]\n",
    "        ch_ratios = pd.DataFrame(columns=charge_sum_ratio_df_columns)\n",
    "        for c in charge_sum_ratio_df_columns:\n",
    "            current_columns = re.findall(\"CH[0-9]*\", c)\n",
    "            ch_ratios[c] = charge_sums[current_columns[0]+\"RS12\"]/charge_sums[current_columns[1]+\"RS12\"]\n",
    "            #ch_ratios.to_excel(\"excel_data/{}/charge_sum_ratios{}\".format(year, month_tag))\n",
    "        print(\"Read {}\".format(filename))\n",
    "        ax.scatter(ch_ratios.index, ch_ratios[col], label=re.findall(\"[0-9]+\", month_tag)[1])\n",
    "        ax.set_ylabel('Charge ratio {}'.format(col), fontsize=19)\n",
    "        ax.set_xlabel('Fills in {}'.format(year), fontsize=19)\n",
    "        plt.legend()\n",
    "        #plt.savefig(plot_dir+\"/charge_sum_ratios_{}_{}-{}\".format(year, *re.findall(\"CH[0-9]*\", col)))"
   ]
  },
  {
   "cell_type": "markdown",
   "metadata": {},
   "source": [
    "## 4) Comparison with FLUKA\n",
    "FLUKA benchmark results need to be given below. Compares simulated charge (in Coulombs) to the BLM detector measurements."
   ]
  },
  {
   "cell_type": "code",
   "execution_count": null,
   "metadata": {},
   "outputs": [],
   "source": [
    "σ_inel = 79.5e-3 #TOTEM result, old: 71.3e-3\n",
    "V = 4.25**2*np.pi*38.7\n",
    "Q_FLUKA = {\"-Z\":2.3991828053e-12, \"+Z\":0.9963477016e-12}\n",
    "\n",
    "heavy_ion_months = {2015: [\"11\", \"12\"], 2016: [\"11\", \"12\"], 2017: [], 2018:[\"11\", \"12\"]}\n",
    "nb4_months = {2015: [\"09\", \"10\", \"11\", \"12\"], 2016: [], 2017: [], 2018:[]}\n",
    "colnames = bcm_utils.get_column_names([24, 48],[10])"
   ]
  },
  {
   "cell_type": "code",
   "execution_count": null,
   "metadata": {},
   "outputs": [],
   "source": [
    "#find files of BLM measurement charge\n",
    "charge_sum_files = [filename for filename in os.listdir(excel_json_path) if \"charge_sums_2\" in filename]\n",
    "charge_sum_error_files = [filename for filename in os.listdir(excel_json_path) if \"charge_sums_sta\" in filename]"
   ]
  },
  {
   "cell_type": "markdown",
   "metadata": {},
   "source": [
    "### Simulation uncertainties"
   ]
  },
  {
   "cell_type": "code",
   "execution_count": null,
   "metadata": {},
   "outputs": [],
   "source": [
    "\"\"\"\n",
    "order= negative positive\n",
    "stat uncertainties come from FLUKA sum.lis\n",
    "syst uncertainties come from the quadratic sum of yield from additional simulations\n",
    "these values are the same when working with each fill\n",
    "\n",
    "per month stat errors:\n",
    "sum((stat_data [%] * data)**2)\n",
    "\n",
    "sim/data ratios error:\n",
    "sim: stat_sim [%] + syst_sim [%]\n",
    "data: stat_data [%] (no syst_data considered here)\n",
    "error of fill ratio [%]: 100*sqrt((stat_sim/sim)**2 + (stat_data/data)**2) + 100*sqrt((syst_sim/sim)**2) = \n",
    "sqrt((stat_sim [%])**2 + (stat_data [%])**2) + syst_sim [%]\n",
    "\"\"\"\n",
    "\n",
    "#syst uncertainty of simulation\n",
    "syst = pd.Series([(9.87169, -8.19754), (8.53797, -7.58091)])\n",
    "\n",
    "#stat uncertainty of simulation\n",
    "stat_percent = pd.Series([0.24094, 0.24787])\n",
    "stat = pd.Series([stat_percent[0]/100*Q_FLUKA[\"-Z\"], stat_percent[1]/100*Q_FLUKA[\"+Z\"]])\n",
    "\n",
    "sim_uncertainties = pd.DataFrame({ 'sim_stat_%': stat_percent, 'sim_stat': stat, 'sim_syst': syst })\n",
    "sim_uncertainties.index=[[\"-Z\", \"+Z\"]]\n",
    "sim_uncertainties = sim_uncertainties.T\n",
    "sim_uncertainties"
   ]
  },
  {
   "cell_type": "markdown",
   "metadata": {},
   "source": [
    "### Calculate ratios"
   ]
  },
  {
   "cell_type": "code",
   "execution_count": null,
   "metadata": {
    "scrolled": true
   },
   "outputs": [],
   "source": [
    "save_excel = False\n",
    "\n",
    "#auxiliary lists\n",
    "blm_fills = []\n",
    "blm_neg_charge = []\n",
    "blm_pos_charge = []\n",
    "fluka_fills = []\n",
    "fluka_neg_charge = []\n",
    "fluka_pos_charge = []\n",
    "\n",
    "#prepare plot\n",
    "plot_dir = \"../sim_data_ratio_plots\"\n",
    "if not os.path.isdir(plot_dir):\n",
    "    os.mkdir(plot_dir)\n",
    "fig, ax = plt.subplots(figsize=(9, 6))\n",
    "plt.grid()\n",
    "plt.yticks(fontsize=13)\n",
    "plt.xticks(fontsize=13)\n",
    "labels = [\"BLM -Z\", \"BLM +Z\"]\n",
    "\n",
    "#loop over measured charge sum and charge error files in each month\n",
    "for (sum_file, error_file) in zip(sorted(charge_sum_files), sorted(charge_sum_error_files)):\n",
    "    month_tag = re.findall(\"_[0-9]+\\.\", sum_file)[0][1:3]\n",
    "    \n",
    "#read sum charge and sum stat uncertainty per fill\n",
    "    print(\"Read {}\".format(sum_file))\n",
    "    sum_df = pd.read_excel(excel_json_path+\"/{}\".format(sum_file)).rename(columns={\"Unnamed: 0\":\"fill\"})\n",
    "    error_df = pd.read_excel(excel_json_path+\"/{}\".format(error_file)).rename(columns={\"Unnamed: 0\":\"fill\"})\n",
    "    assert list(sum_df[\"fill\"]) == list(error_df[\"fill\"])\n",
    "    \n",
    "    print(\"No. of fills: {}\".format(len(sum_df[\"fill\"].unique())))\n",
    "    print(sum_df[\"fill\"].unique())\n",
    "\n",
    "#select subset of brilcalc normtag data based on charge sum df indices\n",
    "    lumi_df = bcm_utils.select_lumi_data(brilcalc_lumi_table, sum_df, lumi_threshold=1e14) # lower threshold for lumi\n",
    "    \n",
    "    print(\"No. of fills with valid lumi: {}\".format(len(lumi_df[\"fill\"].unique())))\n",
    "    print(lumi_df[\"fill\"].unique())\n",
    "    \n",
    "#get the normalization factor to each fill's charge\n",
    "    lumi_df[\"Rpp\"] = lumi_df[\"cms_delivered\"]*σ_inel\n",
    "    lumi_df[\"sim_charge_-Z\"] = lumi_df[\"Rpp\"]/2/V*Q_FLUKA[\"-Z\"]\n",
    "    lumi_df[\"sim_charge_+Z\"] = lumi_df[\"Rpp\"]/2/V*Q_FLUKA[\"+Z\"]\n",
    "    lumi_df[\"sim_charge_-Z_stat_error\"] = lumi_df[\"Rpp\"]/2/V*sim_uncertainties.loc[\"sim_stat\"][\"-Z\"]#[0]\n",
    "    lumi_df[\"sim_charge_+Z_stat_error\"] = lumi_df[\"Rpp\"]/2/V*sim_uncertainties.loc[\"sim_stat\"][\"+Z\"]#[0]\n",
    "    \n",
    "# select BLM channels of measurement data\n",
    "    blm_sums_df = sum_df[colnames]\n",
    "    blm_sums_df.index = sum_df[\"fill\"]\n",
    "    blm_stat_df = error_df[colnames]\n",
    "    blm_stat_df.index = error_df[\"fill\"]\n",
    "\n",
    "# fill up auxiliary lists to plot sim-data absolute values over time\n",
    "    blm_fills.append(list(sum_df[\"fill\"]))\n",
    "    blm_neg_charge.append(list(blm_sums_df[\"CH24RS10\"]))\n",
    "    blm_pos_charge.append(list(blm_sums_df[\"CH48RS10\"]))\n",
    "    fluka_fills.append(list(lumi_df[\"fill\"]))\n",
    "    fluka_neg_charge.append(list(lumi_df[\"sim_charge_-Z\"]))\n",
    "    fluka_pos_charge.append(list(lumi_df[\"sim_charge_+Z\"]))\n",
    "    \n",
    "# relative uncertainty of simulation\n",
    "    sim_rel_error = sim_uncertainties.loc[\"sim_stat_%\"]/100\n",
    "        \n",
    "# calculate simulation/data ratios and their stat uncertainty (syst. uncertainty comes from simulation only)\n",
    "    sim_data_ratios = bcm_utils.calculate_sim_data_ratios(lumi_df, blm_sums_df, colnames)\n",
    "    print(\"Ratios length: {}\".format(len(sim_data_ratios)))\n",
    "    data_term = (blm_stat_df/blm_sums_df)**2\n",
    "    sim_term = sim_uncertainties.loc[\"sim_stat_%\"]/100\n",
    "    data_term[\"CH24RS10\"] = data_term[\"CH24RS10\"] + sim_term[\"-Z\"]**2#[0]**2\n",
    "    data_term[\"CH48RS10\"] = data_term[\"CH48RS10\"] + sim_term[\"+Z\"]**2#[0]**2\n",
    "    ratios_stat = sim_data_ratios*np.sqrt(data_term)\n",
    "    ratios_stat.dropna(inplace=True)\n",
    "\n",
    "#if sampling was nb4\n",
    "    if month_tag in nb4_months[year]:\n",
    "        print(\"nb4 frequency in {}\".format(month_tag))\n",
    "        sim_data_ratios = sim_data_ratios/1.456\n",
    "\n",
    "#save ratios to csv\n",
    "    if save_excel:\n",
    "        sim_data_ratios.to_excel(excel_json_path+\"/sim_data_ratios_{}_{}.xlsx\".format(year, month_tag))\n",
    "        ratios_stat.to_excel(excel_json_path+\"/sim_data_ratios_stat_{}_{}.xlsx\".format(year, month_tag))\n",
    "\n",
    "#make plot of sim/data ratios, filter outliers (mainly due to missing fill parts from data)\n",
    "    if month_tag not in heavy_ion_months[year]:\n",
    "        ratios_to_plot = sim_data_ratios#[(sim_data_ratios[\"CH24RS10\"] < 1) & (sim_data_ratios[\"CH48RS10\"] > .5)]\n",
    "        ax.errorbar(ratios_to_plot.index,\n",
    "                    ratios_to_plot[\"CH24RS10\"], c=\"b\", fmt = 'o')\n",
    "                    #ratios_to_plot[\"CH24RS10\"]*ratios_stat[\"CH24RS10\"]/100, c=\"b\", label=labels[0], fmt = 'o')#, label=month_tag)\n",
    "        ax.errorbar(ratios_to_plot.index,\n",
    "                    ratios_to_plot[\"CH48RS10\"], c=\"r\", fmt = 'o')\n",
    "                    #ratios_to_plot[\"CH48RS10\"]*ratios_stat[\"CH48RS10\"]/100, c=\"r\", label=labels[1], fmt = 'o')#, label=month_tag)\n",
    "        ax.set_ylabel('FLUKA/measurement ratio', fontsize=19)\n",
    "        ax.set_xlabel('Proton fills in {}'.format(year), fontsize=19)\n",
    "        \n",
    "plt.legend(labels)\n",
    "plt.ylim(0.6, 1.5)"
   ]
  },
  {
   "cell_type": "code",
   "execution_count": null,
   "metadata": {
    "scrolled": false
   },
   "outputs": [],
   "source": [
    "\n",
    "blm_valid_fills = sum(blm_fills, [])\n",
    "plt.figure(figsize=(9, 6))\n",
    "plt.scatter(sum(blm_fills, []), sum(blm_neg_charge, []), label=\"BLM -Z measurement charge\")\n",
    "plt.scatter(sum(fluka_fills, []), sum(fluka_neg_charge, []), label=\"BLM -Z scaled simulated charge\")\n",
    "plt.axhline(σ_inel*1e14/2/V*Q_FLUKA[\"-Z\"], c=\"r\", label=\"BLM -Z luminosity threshold\")\n",
    "plt.legend()\n",
    "plt.ylabel(\"Charge [C]\")\n",
    "plt.xlabel(\"Proton fills in 2018\")\n",
    "plt.grid()"
   ]
  },
  {
   "cell_type": "code",
   "execution_count": null,
   "metadata": {},
   "outputs": [],
   "source": [
    "plt.figure(figsize=(16, 6))\n",
    "plt.plot(sum(blm_fills, []), sum(blm_pos_charge, []), label=\"BLM +Z measurement charge\")\n",
    "plt.plot(sum(fluka_fills, []), sum(fluka_pos_charge, []), label=\"BLM +Z scaled simulated charge\")\n",
    "plt.axhline(σ_inel*1e14/2/V*Q_FLUKA[\"+Z\"], c=\"r\", label=\"BLM +Z luminosity threshold\")\n",
    "plt.legend()\n",
    "plt.ylabel(\"Charge [C]\")\n",
    "plt.xlabel(\"Proton fills in 2018\")\n",
    "plt.grid()"
   ]
  },
  {
   "cell_type": "code",
   "execution_count": null,
   "metadata": {},
   "outputs": [],
   "source": []
  }
 ],
 "metadata": {
  "kernelspec": {
   "display_name": "Python 3",
   "language": "python",
   "name": "python3"
  },
  "language_info": {
   "codemirror_mode": {
    "name": "ipython",
    "version": 3
   },
   "file_extension": ".py",
   "mimetype": "text/x-python",
   "name": "python",
   "nbconvert_exporter": "python",
   "pygments_lexer": "ipython3",
   "version": "3.8.5"
  }
 },
 "nbformat": 4,
 "nbformat_minor": 2
}
